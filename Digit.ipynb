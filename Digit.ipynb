{
 "cells": [
  {
   "cell_type": "markdown",
   "metadata": {
    "_uuid": "0b32049f41b246ec28c0515c89fab393dea39001"
   },
   "source": [
    "# Digit Recognizer\n",
    "\n",
    "\n",
    "## Aim\n",
    "\n",
    "### Take an image of a handwritten single digit, and determine what that digit is.\n",
    "\n",
    "## Metrics\n",
    "\n",
    "### This competition is evaluated on the categorization accuracy of your predictions (the percentage of images you get correct).\n",
    "\n",
    "## Descirption of Dataset\n",
    "\n",
    "The data files train.csv and test.csv contain gray-scale images of hand-drawn digits, from zero through nine.\n",
    "\n",
    "Each image is 28 pixels in height and 28 pixels in width, for a total of 784 pixels in total. Each pixel has a single pixel-value associated with it, indicating the lightness or darkness of that pixel, with higher numbers meaning darker. This pixel-value is an integer between 0 and 255, inclusive.\n",
    "\n",
    "The training data set, (train.csv), has 785 columns. The first column, called \"label\", is the digit that was drawn by the user. The rest of the columns contain the pixel-values of the associated image."
   ]
  },
  {
   "cell_type": "code",
   "execution_count": 2,
   "metadata": {
    "_uuid": "0f6edcf6af3f7d810a1ec02341e6f75be12b853f"
   },
   "outputs": [
    {
     "name": "stderr",
     "output_type": "stream",
     "text": [
      "C:\\Users\\ilya\\Anaconda3\\lib\\site-packages\\h5py\\__init__.py:34: FutureWarning: Conversion of the second argument of issubdtype from `float` to `np.floating` is deprecated. In future, it will be treated as `np.float64 == np.dtype(float).type`.\n",
      "  from ._conv import register_converters as _register_converters\n"
     ]
    }
   ],
   "source": [
    "import numpy as np\n",
    "import pandas as pd\n",
    "\n",
    "%matplotlib inline\n",
    "import matplotlib.pyplot as plt\n",
    "import matplotlib.cm as cm\n",
    "\n",
    "import tensorflow as tf\n",
    "\n",
    "# коэффициент скорости обучения\n",
    "LEARNING_RATE = 1e-4 \n",
    "\n",
    "# кол-во итераций\n",
    "TRAINING_ITERATIONS = 2500        \n",
    "\n",
    "# Dropout - это метод регуляризации для уменьшения переобучения в нейронных сетях.\n",
    "# Основная идея: вместо изучения одной сети обучать ансамбль из нескольких сетей, а затем усреднять полученные результаты.\n",
    "\n",
    "DROPOUT = 0.5\n",
    "BATCH_SIZE = 50\n",
    "\n",
    "VALIDATION_SIZE = 2000\n",
    "\n",
    "# изображение для отображения\n",
    "IMAGE_TO_DISPLAY = 10"
   ]
  },
  {
   "cell_type": "code",
   "execution_count": 3,
   "metadata": {
    "_uuid": "d25505efd3864bbb1a9ac29863a5ec42ba89bb50"
   },
   "outputs": [
    {
     "name": "stdout",
     "output_type": "stream",
     "text": [
      "data(42000,785)\n",
      "   label  pixel0  pixel1  pixel2  pixel3  pixel4  pixel5  pixel6  pixel7  \\\n",
      "0      1       0       0       0       0       0       0       0       0   \n",
      "1      0       0       0       0       0       0       0       0       0   \n",
      "2      1       0       0       0       0       0       0       0       0   \n",
      "3      4       0       0       0       0       0       0       0       0   \n",
      "4      0       0       0       0       0       0       0       0       0   \n",
      "\n",
      "   pixel8    ...     pixel774  pixel775  pixel776  pixel777  pixel778  \\\n",
      "0       0    ...            0         0         0         0         0   \n",
      "1       0    ...            0         0         0         0         0   \n",
      "2       0    ...            0         0         0         0         0   \n",
      "3       0    ...            0         0         0         0         0   \n",
      "4       0    ...            0         0         0         0         0   \n",
      "\n",
      "   pixel779  pixel780  pixel781  pixel782  pixel783  \n",
      "0         0         0         0         0         0  \n",
      "1         0         0         0         0         0  \n",
      "2         0         0         0         0         0  \n",
      "3         0         0         0         0         0  \n",
      "4         0         0         0         0         0  \n",
      "\n",
      "[5 rows x 785 columns]\n"
     ]
    }
   ],
   "source": [
    "data = pd.read_csv('../input/train.csv')\n",
    "\n",
    "print('data({0[0]},{0[1]})'.format(data.shape))\n",
    "print (data.head())"
   ]
  },
  {
   "cell_type": "code",
   "execution_count": 4,
   "metadata": {
    "_uuid": "b137bc17ed436e888a394e7096fc871e053a47f6"
   },
   "outputs": [
    {
     "name": "stdout",
     "output_type": "stream",
     "text": [
      "images(42000,784)\n"
     ]
    }
   ],
   "source": [
    "images = data.iloc[:,1:].values\n",
    "images = images.astype(np.float)\n",
    "\n",
    "# конвертирую из [0:255] => [0.0:1.0]\n",
    "images = np.multiply(images, 1.0 / 255.0)\n",
    "\n",
    "print('images({0[0]},{0[1]})'.format(images.shape))"
   ]
  },
  {
   "cell_type": "code",
   "execution_count": 5,
   "metadata": {
    "_uuid": "4e3ad5c7a84f9cb68a7ccba3a572c6ddf4eaadd8"
   },
   "outputs": [
    {
     "name": "stdout",
     "output_type": "stream",
     "text": [
      "image_size => 784\n",
      "image_width => 28\n",
      "image_height => 28\n"
     ]
    }
   ],
   "source": [
    "image_size = images.shape[1]\n",
    "print ('image_size => {0}'.format(image_size))\n",
    "\n",
    "# все изображения - квадраты\n",
    "image_width = image_height = np.ceil(np.sqrt(image_size)).astype(np.uint8)\n",
    "\n",
    "print ('image_width => {0}\\nimage_height => {1}'.format(image_width,image_height))"
   ]
  },
  {
   "cell_type": "markdown",
   "metadata": {
    "_uuid": "b4eb955ec3d1af1ce2809e34fd1ec130b2667401"
   },
   "source": [
    "Чтобы вывести одно из изображений, преобразую эту длинную строку пикселей в 2-мерный массив, который в основном представляет собой изображение в градациях серого."
   ]
  },
  {
   "cell_type": "code",
   "execution_count": 6,
   "metadata": {
    "_uuid": "f44a66ced2e83c5c410a32793c764df4261aa018"
   },
   "outputs": [
    {
     "data": {
      "image/png": "[encoded data removed]",
      "text/plain": [
       "<Figure size 432x288 with 1 Axes>"
      ]
     },
     "metadata": {},
     "output_type": "display_data"
    }
   ],
   "source": [
    "# отображаю изображение\n",
    "def display(img):\n",
    "    \n",
    "    # (784) => (28,28)\n",
    "    one_image = img.reshape(image_width,image_height)\n",
    "    \n",
    "    plt.axis('off')\n",
    "    plt.imshow(one_image, cmap=cm.binary)\n",
    "     \n",
    "display(images[IMAGE_TO_DISPLAY])"
   ]
  },
  {
   "cell_type": "markdown",
   "metadata": {
    "_uuid": "5e0c257bde73f8b0ab74b495cad23dde0d8f3d1e"
   },
   "source": [
    "Соответствующие метки представляют собой числа от 0 до 9, описывающие, какой цифрой является данное изображение."
   ]
  },
  {
   "cell_type": "code",
   "execution_count": 9,
   "metadata": {
    "_uuid": "d6765fb865396d15abb7abc418a14c810bc0f98b"
   },
   "outputs": [
    {
     "name": "stdout",
     "output_type": "stream",
     "text": [
      "labels_flat(42000)\n",
      "labels_flat[10] => 8\n"
     ]
    }
   ],
   "source": [
    "labels_flat = data.iloc[:,0].values\n",
    "\n",
    "print('labels_flat({0})'.format(len(labels_flat)))\n",
    "print ('labels_flat[{0}] => {1}'.format(IMAGE_TO_DISPLAY,labels_flat[IMAGE_TO_DISPLAY]))"
   ]
  },
  {
   "cell_type": "markdown",
   "metadata": {
    "_uuid": "938e32a2bae8abf72c79a98f07e9d5ba6652f248"
   },
   "source": [
    "В этом случае существует десять различных цифр / меток / классов."
   ]
  },
  {
   "cell_type": "code",
   "execution_count": 10,
   "metadata": {
    "_uuid": "d89d3858147f692918c3f7f0a8b3badd55272c95"
   },
   "outputs": [
    {
     "name": "stdout",
     "output_type": "stream",
     "text": [
      "labels_count => 10\n"
     ]
    }
   ],
   "source": [
    "labels_count = np.unique(labels_flat).shape[0]\n",
    "\n",
    "print('labels_count => {0}'.format(labels_count))"
   ]
  },
  {
   "cell_type": "markdown",
   "metadata": {
    "_uuid": "b2cc0c7b80cff307ad50bda50cc2b2585b5810ef"
   },
   "source": [
    "Для большинства задач классификации используются «one-hot vectors». Это вектор, который содержит один элемент, равный 1, а остальные элементы равны 0."
   ]
  },
  {
   "cell_type": "code",
   "execution_count": 11,
   "metadata": {
    "_uuid": "063495c6a203e035215ab58835d7920967c664cd"
   },
   "outputs": [
    {
     "name": "stdout",
     "output_type": "stream",
     "text": [
      "labels(42000,10)\n",
      "labels[10] => [0 0 0 0 0 0 0 0 1 0]\n"
     ]
    }
   ],
   "source": [
    "# конвертирую метки классов из скаляров в one-hot vectores\n",
    "# 0 => [1 0 0 0 0 0 0 0 0 0]\n",
    "# 1 => [0 1 0 0 0 0 0 0 0 0]\n",
    "# ...\n",
    "# 9 => [0 0 0 0 0 0 0 0 0 1]\n",
    "def dense_to_one_hot(labels_dense, num_classes):\n",
    "    num_labels = labels_dense.shape[0]\n",
    "    index_offset = np.arange(num_labels) * num_classes\n",
    "    labels_one_hot = np.zeros((num_labels, num_classes))\n",
    "    labels_one_hot.flat[index_offset + labels_dense.ravel()] = 1\n",
    "    return labels_one_hot\n",
    "\n",
    "labels = dense_to_one_hot(labels_flat, labels_count)\n",
    "labels = labels.astype(np.uint8)\n",
    "\n",
    "print('labels({0[0]},{0[1]})'.format(labels.shape))\n",
    "print ('labels[{0}] => {1}'.format(IMAGE_TO_DISPLAY,labels[IMAGE_TO_DISPLAY]))"
   ]
  },
  {
   "cell_type": "code",
   "execution_count": 12,
   "metadata": {
    "_uuid": "75b4439e1ebe049b85c7201b37f963e95b26ad54"
   },
   "outputs": [
    {
     "name": "stdout",
     "output_type": "stream",
     "text": [
      "train_images(40000,784)\n",
      "validation_images(2000,784)\n"
     ]
    }
   ],
   "source": [
    "# разделяю данные на обучение и валидацию\n",
    "validation_images = images[:VALIDATION_SIZE]\n",
    "validation_labels = labels[:VALIDATION_SIZE]\n",
    "\n",
    "train_images = images[VALIDATION_SIZE:]\n",
    "train_labels = labels[VALIDATION_SIZE:]\n",
    "\n",
    "print('train_images({0[0]},{0[1]})'.format(train_images.shape))\n",
    "print('validation_images({0[0]},{0[1]})'.format(validation_images.shape))"
   ]
  },
  {
   "cell_type": "markdown",
   "metadata": {
    "_uuid": "3a064f00c22655cb95bed5171b345fa1256fc735"
   },
   "source": [
    "## TensorFlow граф\n",
    "\n",
    "Использую функцию активации Relu\n",
    "\n",
    "Функция активации — это способ нормализации входных данных. То есть, если на входе у вас будет большое число, пропустив его через функцию активации, вы получите выход в нужном вам диапазоне.\n",
    "\n",
    "В последние годы большую популярность приобрела функция активации под названием «выпрямитель». Нейроны с данной функцией активации называются ReLU (rectified linear unit). ReLU имеет следующую формулу *f(x)=max(0,x)* и реализует простой пороговый переход в нуле.\n",
    "\n",
    "Положительные стороны:\n",
    "\n",
    "Вычисление сигмоиды и гиперболического тангенса требует выполнения ресурсоемких операций, таких как возведение в степень, в то время как ReLU может быть реализован с помощью простого порогового преобразования матрицы активаций в нуле. Кроме того, ReLU не подвержен насыщению.\n",
    "Применение ReLU существенно повышает скорость сходимости стохастического градиентного спуска (в некоторых случаях до 6 раз [Krizhevsky et al.]) по сравнению с сигмоидой и гиперболическим тангенсом. Считается, что это обусловлено линейным характером и отсутствием насыщения данной функции.\n",
    "Отрицательные стороны:\n",
    "\n",
    "К сожалению, ReLU не всегда достаточно надежны и в процессе обучения могут выходить из строя («умирать»). Например, большой градиент, проходящий через ReLU, может привести к такому обновлению весов, что данный нейрон никогда больше не активируется. Если это произойдет, то, начиная с данного момента, градиент, проходящий через этот нейрон, всегда будет равен нулю. Соответственно, данный нейрон будет необратимо выведен из строя. Например, при слишком большой скорости обучения (learning rate), может оказаться, что до 40% ReLU «мертвы» (то есть, никогда не активируются). Эта проблема решается посредством выбора надлежащей скорости обучения.\n"
   ]
  },
  {
   "cell_type": "code",
   "execution_count": 13,
   "metadata": {
    "_uuid": "bb6b7e8034ac49399717b1db93aeafdf82527a3a",
    "collapsed": true
   },
   "outputs": [],
   "source": [
    "# инициализация весов и смещений\n",
    "def weight_variable(shape):\n",
    "    initial = tf.truncated_normal(shape, stddev=0.1)\n",
    "    return tf.Variable(initial)\n",
    "\n",
    "def bias_variable(shape):\n",
    "    initial = tf.constant(0.1, shape=shape)\n",
    "    return tf.Variable(initial)"
   ]
  },
  {
   "cell_type": "markdown",
   "metadata": {
    "_uuid": "6dc706667c3bb1399c253c9a38b17b756a9dbd65"
   },
   "source": [
    "Для этой проблемы использую заполнение отступов нулями (zero paded convolutions), чтобы размер выходного файла был таким же, как у входного значения. Шаг (stride) в этом случае равен 1.\n",
    "В общем, слой свертки используется для получения признаков. В случае распознавания цифр - форма каждой цифры. Он использует доступные для изучения ядра / фильтры, каждое из которых соответствует одному конкретному шаблону формы. \n"
   ]
  },
  {
   "cell_type": "code",
   "execution_count": 14,
   "metadata": {
    "_uuid": "9b5c542df2032e10cf5437b870de65adec3eb706",
    "collapsed": true
   },
   "outputs": [],
   "source": [
    "# свертывание\n",
    "def conv2d(x, W):\n",
    "    return tf.nn.conv2d(x, W, strides=[1, 1, 1, 1], padding='SAME')"
   ]
  },
  {
   "cell_type": "markdown",
   "metadata": {
    "_uuid": "3fe09c7c5ac7323a8d22e326341e86b4376dfafb"
   },
   "source": [
    "Max pooling - 2x2.\n",
    "\n",
    "Max pooling используется для понижения выборки данных. Max pooling 2x2 разбивает изображение на квадратные 2-пиксельные блоки и сохраняет только максимальное значение для каждого из этих блоков."
   ]
  },
  {
   "cell_type": "code",
   "execution_count": 15,
   "metadata": {
    "_uuid": "dc4cc09a5eb44be13eae310c720c77596682eec0",
    "collapsed": true
   },
   "outputs": [],
   "source": [
    "# пулинг\n",
    "# [[0,3],\n",
    "#  [4,2]] => 4\n",
    "\n",
    "# [[0,1],\n",
    "#  [1,1]] => 1\n",
    "\n",
    "def max_pool_2x2(x):\n",
    "    return tf.nn.max_pool(x, ksize=[1, 2, 2, 1], strides=[1, 2, 2, 1], padding='SAME')"
   ]
  },
  {
   "cell_type": "markdown",
   "metadata": {
    "_uuid": "7983f47a9c1317a7eb89f99ed822b30d8b49f33f"
   },
   "source": [
    "Любой NN может использоваться как слой в большом многослойном NN, а это означает, что выход одного можно использовать как вход для другого. Этот последовательный подход может создать очень сложную NN с несколькими уровнями. Их также называют глубокими нейронными сетями.\n",
    "\n",
    "В этом случае использую два слоя свертки с пулингом между ними, затем полносвязный слой с dropout и слой считывания (Readout layer: Softmax Layer)\n",
    "\n",
    "Полносвязные слои соединяют каждый нейрон в одном слое с каждым нейроном в другом слое. Это в принципе то же самое, что и традиционная многослойная нейронная сеть перцептрона (MLP). Этот слой берёт вводные данные и выводит N-пространственный вектор, где N — число классов, из которых программа выбирает нужный. Например, если вы хотите программу по распознаванию цифр, у N будет значение 10, потому что цифр 10. "
   ]
  },
  {
   "cell_type": "code",
   "execution_count": 16,
   "metadata": {
    "_uuid": "83270b9689fdd3de2817a53dfbc9499c5514ee2a",
    "collapsed": true
   },
   "outputs": [],
   "source": [
    "# input & output of NN\n",
    "\n",
    "# images\n",
    "x = tf.placeholder('float', shape=[None, image_size])\n",
    "# labels\n",
    "y_ = tf.placeholder('float', shape=[None, labels_count])"
   ]
  },
  {
   "cell_type": "markdown",
   "metadata": {
    "_uuid": "88bfe87579db7099183eed5c83d48587dade75b1"
   },
   "source": [
    "Patch - это окно с определенным кол-ом пикселей, которое проходит по всему изображению во время свертки.\n",
    "\n",
    "Первый слой - это свертка, за которой следует макс пулинг. Свертка вычисляет 32 признака для каждого патча 5x5. Его весовой тензор имеет форму [5, 5, 1, 32]. Первые два измерения - это размер патча, следующее - количество входных каналов (1 означает, что изображения в оттенках серого), а последнее - количество выходных каналов. Существует также вектор смещения с компонентом для каждого выходного канала.\n",
    "\n",
    "Чтобы применить слой, преобразую входные данные в тензор 4d, причем первое измерение соответствует количеству изображений, второе и третье - ширине и высоте изображения, а окончательное измерение - количеству цветовых каналов.\n",
    "\n",
    "После свертки пул уменьшает размер вывода с 28x28 до 14x14."
   ]
  },
  {
   "cell_type": "code",
   "execution_count": 17,
   "metadata": {
    "_uuid": "6d377bedabc9246de6884927b296b8a36587cc1a",
    "collapsed": true
   },
   "outputs": [],
   "source": [
    "# первый сверточный слой\n",
    "W_conv1 = weight_variable([5, 5, 1, 32])\n",
    "b_conv1 = bias_variable([32])\n",
    "\n",
    "# (40000,784) => (40000,28,28,1)\n",
    "image = tf.reshape(x, [-1,image_width , image_height,1])\n",
    "#print (image.get_shape()) # =>(40000,28,28,1)\n",
    "\n",
    "h_conv1 = tf.nn.relu(conv2d(image, W_conv1) + b_conv1)\n",
    "#print (h_conv1.get_shape()) # => (40000, 28, 28, 32)\n",
    "h_pool1 = max_pool_2x2(h_conv1)\n",
    "#print (h_pool1.get_shape()) # => (40000, 14, 14, 32)\n",
    "\n",
    "# подготовка для визуализации 32 признаков в сетке 4 на 8\n",
    "layer1 = tf.reshape(h_conv1, (-1, image_height, image_width, 4 ,8))  \n",
    "layer1 = tf.transpose(layer1, (0, 3, 1, 4,2))\n",
    "layer1 = tf.reshape(layer1, (-1, image_height*4, image_width*8)) "
   ]
  },
  {
   "cell_type": "markdown",
   "metadata": {
    "_uuid": "04a7a7a5d573a847cece3f038369f201b862f1cd"
   },
   "source": [
    "Второй слой имеет 64 признака для каждого патча 5х5. Его весовой тензор имеет форму [5, 5, 32, 64]. Первые два измерения - это размер патча, следующее - количество входных каналов (32 канала соответствуют 32 признакам, которые я получилиз предыдущего сверточного слоя), а последнее - количество выходных каналов. Существует также вектор смещения с компонентом для каждого выходного канала.\n",
    "\n",
    "Поскольку изображение подвергается понижающей дискретизации путем объединения до размера 14x14, второй сверточный слой получает более общие признаки изображений. Фильтры занимают больше места на картинке. Таким образом, он настроен на более общие признаки, в то время как первый слой находит мелкие детали."
   ]
  },
  {
   "cell_type": "code",
   "execution_count": 18,
   "metadata": {
    "_uuid": "476671d2b2a601746739c775abbfb3da0b77140d",
    "collapsed": true
   },
   "outputs": [],
   "source": [
    "# второй сверточный слой\n",
    "W_conv2 = weight_variable([5, 5, 32, 64])\n",
    "b_conv2 = bias_variable([64])\n",
    "\n",
    "h_conv2 = tf.nn.relu(conv2d(h_pool1, W_conv2) + b_conv2)\n",
    "#print (h_conv2.get_shape()) # => (40000, 14,14, 64)\n",
    "h_pool2 = max_pool_2x2(h_conv2)\n",
    "#print (h_pool2.get_shape()) # => (40000, 7, 7, 64)\n",
    "\n",
    "# для визуализации 64 признаков в сетке 4 на 16\n",
    "layer2 = tf.reshape(h_conv2, (-1, 14, 14, 4 ,16))  \n",
    "layer2 = tf.transpose(layer2, (0, 3, 1, 4,2))\n",
    "layer2 = tf.reshape(layer2, (-1, 14*4, 14*16)) "
   ]
  },
  {
   "cell_type": "markdown",
   "metadata": {
    "_uuid": "761717d1d8f09c4516daed249ff21212a15659c6"
   },
   "source": [
    "Теперь, когда размер изображения уменьшен до 7x7, добавляю полносвязный слой с 1024 нейронами, чтобы совершить обработку всего изображения (каждый из нейронов полносвязного слоя связан со всеми активациями / выходами предыдущего слоя)"
   ]
  },
  {
   "cell_type": "code",
   "execution_count": 19,
   "metadata": {
    "_uuid": "5455f09ccb68ab4111f8fb737b210582e1ef7091",
    "collapsed": true
   },
   "outputs": [],
   "source": [
    "# полносвязный слой\n",
    "W_fc1 = weight_variable([7 * 7 * 64, 1024])\n",
    "b_fc1 = bias_variable([1024])\n",
    "\n",
    "# (40000, 7, 7, 64) => (40000, 3136)\n",
    "h_pool2_flat = tf.reshape(h_pool2, [-1, 7*7*64])\n",
    "\n",
    "h_fc1 = tf.nn.relu(tf.matmul(h_pool2_flat, W_fc1) + b_fc1)\n",
    "#print (h_fc1.get_shape()) # => (40000, 1024)"
   ]
  },
  {
   "cell_type": "markdown",
   "metadata": {
    "_uuid": "263a27248035f3e276d2d13fd240caa86b326bb2"
   },
   "source": [
    "Чтобы предотвратить переобучение, применяю dropout перед слоем считывания.\n",
    "\n",
    "Dropout удаляет некоторые узлы из сети на каждом этапе обучения. Каждый из узлов либо хранится в сети с вероятностью *keep_prob *, либо отбрасывается с вероятностью *1 - keep_prob*. После завершения этапа обучения узлы возвращаются в NN с их исходными весами."
   ]
  },
  {
   "cell_type": "code",
   "execution_count": 20,
   "metadata": {
    "_uuid": "d21dfc847cb802cd7cfc182fdcee4ffd06e542c2",
    "collapsed": true
   },
   "outputs": [],
   "source": [
    "# dropout\n",
    "keep_prob = tf.placeholder('float')\n",
    "h_fc1_drop = tf.nn.dropout(h_fc1, keep_prob)"
   ]
  },
  {
   "cell_type": "markdown",
   "metadata": {
    "_uuid": "4ffcd1b95e80daa596a9656fae6d202d32115d8f"
   },
   "source": [
    "Наконец, добавляю слой softmax"
   ]
  },
  {
   "cell_type": "code",
   "execution_count": 21,
   "metadata": {
    "_uuid": "7aadc88e2b247cd4375e29a6e2f47d16fc7ae484",
    "collapsed": true
   },
   "outputs": [],
   "source": [
    "# слой считывания для глубокой сети\n",
    "W_fc2 = weight_variable([1024, labels_count])\n",
    "b_fc2 = bias_variable([labels_count])\n",
    "\n",
    "y = tf.nn.softmax(tf.matmul(h_fc1_drop, W_fc2) + b_fc2)\n",
    "\n",
    "#print (y.get_shape()) # => (40000, 10)"
   ]
  },
  {
   "cell_type": "markdown",
   "metadata": {
    "_uuid": "25e83e619707e6bf63fb98f6a33bed2c0f812f90"
   },
   "source": [
    "Для оценки производительности сети я использую кросс-энтропию, а для ее минимизации используется оптимизатор ADAM.\n",
    "\n",
    "Оптимизатор ADAM - это алгоритм оптимизации на основе градиента, основанный на адаптивных оценках, он более сложен, чем наибольший градиентный спуск, и хорошо подходит для задач с большим кол-ов данных или многими параметрами."
   ]
  },
  {
   "cell_type": "code",
   "execution_count": 22,
   "metadata": {
    "_uuid": "4d26dbcbee9685ba37524351d713d3a27aea7b7f",
    "collapsed": true
   },
   "outputs": [],
   "source": [
    "# функция потерь\n",
    "cross_entropy = -tf.reduce_sum(y_*tf.log(y))\n",
    "\n",
    "\n",
    "# функция оптимизации\n",
    "train_step = tf.train.AdamOptimizer(LEARNING_RATE).minimize(cross_entropy)\n",
    "\n",
    "# оценка\n",
    "correct_prediction = tf.equal(tf.argmax(y,1), tf.argmax(y_,1))\n",
    "\n",
    "accuracy = tf.reduce_mean(tf.cast(correct_prediction, 'float'))"
   ]
  },
  {
   "cell_type": "markdown",
   "metadata": {
    "_uuid": "c4565f0ca3cb866ebbdaf168be8dce72259dc825"
   },
   "source": [
    "Чтобы предсказать значения из валидационных данных, наибольшая вероятность выбирается из \"one-hot vector\", что указывает на то, что шансы изображения быть одной из цифр являются самыми высокими."
   ]
  },
  {
   "cell_type": "code",
   "execution_count": 23,
   "metadata": {
    "_uuid": "2485440ee9a7cca6c0604a57e2e7962b1eda4f5b",
    "collapsed": true
   },
   "outputs": [],
   "source": [
    "# функция предсказаний\n",
    "#[0.1, 0.9, 0.2, 0.1, 0.1 0.3, 0.5, 0.1, 0.2, 0.3] => 1\n",
    "predict = tf.argmax(y,1)"
   ]
  },
  {
   "cell_type": "markdown",
   "metadata": {
    "_uuid": "c19cc450ca55ebcff4494366a501af4d24ad6dee"
   },
   "source": [
    "*Наконец, структура нейронной сети определена, и TensorFlow граф готов к обучению.*\n",
    "## Тренировка и предсказания\n",
    "\n",
    "В идеале, я должен использовать все данные для каждого этапа обучения, но это ресурсозатратно. Таким образом, вместо этого я использую небольшие батчи (batches) случайных данных.\n",
    "\n",
    "Этот метод называется стохастическим обучением. Это быстрее и дает тот же результат."
   ]
  },
  {
   "cell_type": "code",
   "execution_count": 24,
   "metadata": {
    "_uuid": "79ede76e82c8ee9fde38d965ab1f14e2a201ec6d",
    "collapsed": true
   },
   "outputs": [],
   "source": [
    "epochs_completed = 0\n",
    "index_in_epoch = 0\n",
    "num_examples = train_images.shape[0]\n",
    "\n",
    "def next_batch(batch_size):\n",
    "    \n",
    "    global train_images\n",
    "    global train_labels\n",
    "    global index_in_epoch\n",
    "    global epochs_completed\n",
    "    \n",
    "    start = index_in_epoch\n",
    "    index_in_epoch += batch_size\n",
    "    \n",
    "    # когда все тренировочные данные уже использованы, они переупорядочиваются случайным образом  \n",
    "    if index_in_epoch > num_examples:\n",
    "        # законченная эпоха\n",
    "        epochs_completed += 1\n",
    "        # перемешать данне\n",
    "        perm = np.arange(num_examples)\n",
    "        np.random.shuffle(perm)\n",
    "        train_images = train_images[perm]\n",
    "        train_labels = train_labels[perm]\n",
    "        # начать следующую эпоху\n",
    "        start = 0\n",
    "        index_in_epoch = batch_size\n",
    "        assert batch_size <= num_examples\n",
    "    end = index_in_epoch\n",
    "    return train_images[start:end], train_labels[start:end]"
   ]
  },
  {
   "cell_type": "markdown",
   "metadata": {
    "_uuid": "a342d8745203b4aaace75985196d7fd92fafd047"
   },
   "source": [
    "Теперь, когда все операции для каждой переменной определены в графе TensorFlow, все вычисления будут выполняться вне среды Python."
   ]
  },
  {
   "cell_type": "code",
   "execution_count": 25,
   "metadata": {
    "_uuid": "081e072c3bc6f6e06360c07861f4942801f6e8cd"
   },
   "outputs": [
    {
     "name": "stdout",
     "output_type": "stream",
     "text": [
      "WARNING:tensorflow:From C:\\Users\\ilya\\Anaconda3\\lib\\site-packages\\tensorflow\\python\\util\\tf_should_use.py:118: initialize_all_variables (from tensorflow.python.ops.variables) is deprecated and will be removed after 2017-03-02.\n",
      "Instructions for updating:\n",
      "Use `tf.global_variables_initializer` instead.\n"
     ]
    }
   ],
   "source": [
    "# начать сессию TensorFlow\n",
    "init = tf.initialize_all_variables()\n",
    "sess = tf.InteractiveSession()\n",
    "\n",
    "sess.run(init)"
   ]
  },
  {
   "cell_type": "markdown",
   "metadata": {
    "_uuid": "1076177b81a561b98f39ae14386eb5e7fabacfcd"
   },
   "source": [
    "На каждом этапе цикла я получаю батч точек данных из обучающего набора и подаем его на граф для замены плэйсхолдеров. В данном случае это: *x, y* и *dropout.*\n",
    "\n",
    "Кроме того, время от времени я проверяю точность обучения на предстоящем батче.\n",
    "\n",
    "В локальной среде рекомендуется сохранить прогресс в обучении, чтобы его можно было восстановить для дальнейшего обучения, отладки или оценки."
   ]
  },
  {
   "cell_type": "code",
   "execution_count": 27,
   "metadata": {
    "_uuid": "e3ed472a0b2d2098708b0edf48fd2deef7d0b4d7"
   },
   "outputs": [
    {
     "name": "stdout",
     "output_type": "stream",
     "text": [
      "training_accuracy / validation_accuracy => 0.94 / 0.94 for step 0\n",
      "training_accuracy / validation_accuracy => 0.98 / 0.94 for step 1\n",
      "training_accuracy / validation_accuracy => 0.96 / 0.94 for step 2\n",
      "training_accuracy / validation_accuracy => 0.92 / 0.94 for step 3\n",
      "training_accuracy / validation_accuracy => 0.94 / 0.94 for step 4\n",
      "training_accuracy / validation_accuracy => 0.90 / 0.94 for step 5\n",
      "training_accuracy / validation_accuracy => 0.96 / 0.94 for step 6\n",
      "training_accuracy / validation_accuracy => 0.90 / 0.94 for step 7\n",
      "training_accuracy / validation_accuracy => 0.88 / 0.94 for step 8\n",
      "training_accuracy / validation_accuracy => 0.94 / 0.94 for step 9\n",
      "training_accuracy / validation_accuracy => 0.98 / 0.94 for step 10\n",
      "training_accuracy / validation_accuracy => 0.98 / 0.94 for step 20\n",
      "training_accuracy / validation_accuracy => 0.96 / 0.94 for step 30\n",
      "training_accuracy / validation_accuracy => 0.88 / 0.96 for step 40\n",
      "training_accuracy / validation_accuracy => 0.94 / 0.96 for step 50\n",
      "training_accuracy / validation_accuracy => 0.96 / 0.94 for step 60\n",
      "training_accuracy / validation_accuracy => 0.94 / 0.96 for step 70\n",
      "training_accuracy / validation_accuracy => 0.94 / 0.96 for step 80\n",
      "training_accuracy / validation_accuracy => 0.86 / 0.94 for step 90\n",
      "training_accuracy / validation_accuracy => 0.94 / 0.96 for step 100\n",
      "training_accuracy / validation_accuracy => 0.98 / 0.96 for step 200\n",
      "training_accuracy / validation_accuracy => 0.96 / 0.96 for step 300\n",
      "training_accuracy / validation_accuracy => 0.98 / 0.96 for step 400\n",
      "training_accuracy / validation_accuracy => 0.98 / 0.94 for step 500\n",
      "training_accuracy / validation_accuracy => 0.96 / 0.96 for step 600\n",
      "training_accuracy / validation_accuracy => 0.96 / 0.96 for step 700\n",
      "training_accuracy / validation_accuracy => 0.98 / 0.96 for step 800\n",
      "training_accuracy / validation_accuracy => 0.98 / 0.96 for step 900\n",
      "training_accuracy / validation_accuracy => 0.98 / 0.96 for step 1000\n",
      "training_accuracy / validation_accuracy => 1.00 / 0.98 for step 2000\n",
      "training_accuracy / validation_accuracy => 1.00 / 1.00 for step 2499\n"
     ]
    }
   ],
   "source": [
    "# переменные визуализации\n",
    "train_accuracies = []\n",
    "validation_accuracies = []\n",
    "x_range = []\n",
    "\n",
    "display_step=1\n",
    "\n",
    "for i in range(TRAINING_ITERATIONS):\n",
    "\n",
    "    #получить новый батч\n",
    "    batch_xs, batch_ys = next_batch(BATCH_SIZE)        \n",
    "\n",
    "    # проверять прогресс на каждом 1ом,2ом,...,10ом,20ом,...,100ом... шаге\n",
    "    if i%display_step == 0 or (i+1) == TRAINING_ITERATIONS:\n",
    "        \n",
    "        train_accuracy = accuracy.eval(feed_dict={x:batch_xs, \n",
    "                                                  y_: batch_ys, \n",
    "                                                  keep_prob: 1.0})       \n",
    "        if(VALIDATION_SIZE):\n",
    "            validation_accuracy = accuracy.eval(feed_dict={ x: validation_images[0:BATCH_SIZE], \n",
    "                                                            y_: validation_labels[0:BATCH_SIZE], \n",
    "                                                            keep_prob: 1.0})                                  \n",
    "            print('training_accuracy / validation_accuracy => %.2f / %.2f for step %d'%(train_accuracy, validation_accuracy, i))\n",
    "            \n",
    "            validation_accuracies.append(validation_accuracy)\n",
    "            \n",
    "        else:\n",
    "             print('training_accuracy => %.4f for step %d'%(train_accuracy, i))\n",
    "        train_accuracies.append(train_accuracy)\n",
    "        x_range.append(i)\n",
    "        \n",
    "        # увеличить display_step\n",
    "        if i%(display_step*10) == 0 and i:\n",
    "            display_step *= 10\n",
    "    # тренировка на батчах\n",
    "    sess.run(train_step, feed_dict={x: batch_xs, y_: batch_ys, keep_prob: DROPOUT})"
   ]
  },
  {
   "cell_type": "markdown",
   "metadata": {
    "_uuid": "d3ff63ca878e7603c1eec4027272e4d6d899dd69"
   },
   "source": [
    "После того, как обучение закончено, хорошо проверить точность данных, которые не использовались в обучении."
   ]
  },
  {
   "cell_type": "code",
   "execution_count": 28,
   "metadata": {
    "_uuid": "8a9d5870d9176264af5dcccd0927307f31ef8176"
   },
   "outputs": [
    {
     "name": "stdout",
     "output_type": "stream",
     "text": [
      "validation_accuracy => 0.9835\n"
     ]
    },
    {
     "data": {
      "image/png": "[encoded data removed]",
      "text/plain": [
       "<Figure size 432x288 with 1 Axes>"
      ]
     },
     "metadata": {},
     "output_type": "display_data"
    }
   ],
   "source": [
    "# проверить окончательную точность на валидации\n",
    "if(VALIDATION_SIZE):\n",
    "    validation_accuracy = accuracy.eval(feed_dict={x: validation_images, \n",
    "                                                   y_: validation_labels, \n",
    "                                                   keep_prob: 1.0})\n",
    "    print('validation_accuracy => %.4f'%validation_accuracy)\n",
    "    plt.plot(x_range, train_accuracies,'-b', label='Training')\n",
    "    plt.plot(x_range, validation_accuracies,'-g', label='Validation')\n",
    "    plt.legend(loc='lower right', frameon=False)\n",
    "    plt.ylim(ymax = 1.1, ymin = 0.7)\n",
    "    plt.ylabel('accuracy')\n",
    "    plt.xlabel('step')\n",
    "    plt.show()"
   ]
  },
  {
   "cell_type": "markdown",
   "metadata": {
    "_uuid": "5e6d32d75afc4f8427f1c7d99e1f7ace05b0e682"
   },
   "source": [
    "Когда мы довольны результатом, мы читаем тестовые данные из *test.csv* и прогнозируем метки для предоставленных изображений.\n",
    "\n",
    "Тестовые данные содержат только изображения и метки отсутствуют. В остальном структура аналогична обучающим данным.\n",
    "\n",
    "Предсказанные метки сохраняются в файле CSV для последующей отправки."
   ]
  },
  {
   "cell_type": "code",
   "execution_count": 29,
   "metadata": {
    "_uuid": "1ade7d3dfe46ef81e128547368c3fa9f460e3043"
   },
   "outputs": [
    {
     "name": "stdout",
     "output_type": "stream",
     "text": [
      "test_images(28000,784)\n",
      "predicted_lables(28000)\n",
      "predicted_lables[10] => 5.0\n"
     ]
    },
    {
     "data": {
      "image/png": "[encoded data removed]",
      "text/plain": [
       "<Figure size 432x288 with 1 Axes>"
      ]
     },
     "metadata": {},
     "output_type": "display_data"
    }
   ],
   "source": [
    "# читаю тестовые данные из файла CSV\n",
    "test_images = pd.read_csv('../input/test.csv').values\n",
    "test_images = test_images.astype(np.float)\n",
    "\n",
    "# конвертирую из [0:255] => [0.0:1.0]\n",
    "test_images = np.multiply(test_images, 1.0 / 255.0)\n",
    "\n",
    "print('test_images({0[0]},{0[1]})'.format(test_images.shape))\n",
    "\n",
    "\n",
    "# предсказываю тестовый набор данных\n",
    "#predicted_lables = predict.eval(feed_dict={x: test_images, keep_prob: 1.0})\n",
    "\n",
    "# использование батчей более ресурсоэффективно\n",
    "predicted_lables = np.zeros(test_images.shape[0])\n",
    "for i in range(0,test_images.shape[0]//BATCH_SIZE):\n",
    "    predicted_lables[i*BATCH_SIZE : (i+1)*BATCH_SIZE] = predict.eval(feed_dict={x: test_images[i*BATCH_SIZE : (i+1)*BATCH_SIZE], \n",
    "                                                                                keep_prob: 1.0})\n",
    "\n",
    "\n",
    "print('predicted_lables({0})'.format(len(predicted_lables)))\n",
    "\n",
    "# выходное тестовое изображение и прогноз\n",
    "display(test_images[IMAGE_TO_DISPLAY])\n",
    "print ('predicted_lables[{0}] => {1}'.format(IMAGE_TO_DISPLAY,predicted_lables[IMAGE_TO_DISPLAY]))\n",
    "\n",
    "# сохраняю результаты\n",
    "np.savetxt('submission_softmax.csv', \n",
    "           np.c_[range(1,len(test_images)+1),predicted_lables], \n",
    "           delimiter=',', \n",
    "           header = 'ImageId,Label', \n",
    "           comments = '', \n",
    "           fmt='%d')"
   ]
  },
  {
   "cell_type": "markdown",
   "metadata": {
    "_uuid": "caa49cad1c1cddf7ee8e27be5551c1dd5ebc5e84"
   },
   "source": [
    "Полезно было бы вывести некоторые переменные для лучшего понимания процесса.\n",
    "\n",
    "Здесь можно увидеть вывод первого слоя свертки из графа TensorFlow. 32 объекта преобразованы в сетку изображений, и довольно интересно посмотреть, как фильтры, выбранные по NN, описывают характеристики различных цифр."
   ]
  },
  {
   "cell_type": "code",
   "execution_count": 30,
   "metadata": {
    "_uuid": "b768ff2991d6172f373e449d3830de55ffdc95fc"
   },
   "outputs": [
    {
     "data": {
      "text/plain": [
       "<matplotlib.image.AxesImage at 0x152128a87b8>"
      ]
     },
     "execution_count": 30,
     "metadata": {},
     "output_type": "execute_result"
    },
    {
     "data": {
      "image/png": "[encoded data removed]",
      "text/plain": [
       "<Figure size 432x288 with 1 Axes>"
      ]
     },
     "metadata": {},
     "output_type": "display_data"
    }
   ],
   "source": [
    "layer1_grid = layer1.eval(feed_dict={x: test_images[IMAGE_TO_DISPLAY:IMAGE_TO_DISPLAY+1], keep_prob: 1.0})\n",
    "plt.axis('off')\n",
    "plt.imshow(layer1_grid[0], cmap=cm.seismic )"
   ]
  },
  {
   "cell_type": "code",
   "execution_count": 31,
   "metadata": {
    "_uuid": "d4e055b8701d282b963dc1f9dc5e4aad7da84915",
    "collapsed": true
   },
   "outputs": [],
   "source": [
    "sess.close()"
   ]
  }
 ],
 "metadata": {
  "kernelspec": {
   "display_name": "Python 3",
   "language": "python",
   "name": "python3"
  },
  "language_info": {
   "codemirror_mode": {
    "name": "ipython",
    "version": 3
   },
   "file_extension": ".py",
   "mimetype": "text/x-python",
   "name": "python",
   "nbconvert_exporter": "python",
   "pygments_lexer": "ipython3",
   "version": "3.6.3"
  }
 },
 "nbformat": 4,
 "nbformat_minor": 1
}
